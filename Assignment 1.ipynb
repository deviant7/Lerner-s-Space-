{
 "cells": [
  {
   "cell_type": "code",
   "execution_count": 25,
   "id": "ecbe6174-9826-4cd6-a702-de047f9e6340",
   "metadata": {},
   "outputs": [],
   "source": [
    "import numpy as np\n",
    "import pandas as pd\n",
    "from sklearn.feature_extraction.text import CountVectorizer, TfidfVectorizer\n",
    "from sklearn.model_selection import train_test_split\n",
    "from sklearn.naive_bayes import MultinomialNB\n",
    "from sklearn.linear_model import LogisticRegression\n",
    "from sklearn.metrics import accuracy_score, precision_recall_fscore_support, classification_report\n",
    "import random"
   ]
  },
  {
   "cell_type": "code",
   "execution_count": 26,
   "id": "5cbe8a8f-1328-4f40-9b63-7b0efda05c5d",
   "metadata": {},
   "outputs": [],
   "source": [
    "# Set seeds for reproducibility\n",
    "np.random.seed(42)\n",
    "random.seed(42)"
   ]
  },
  {
   "cell_type": "markdown",
   "id": "80902ac5-f815-4698-8fdc-d280e90c2ad4",
   "metadata": {},
   "source": [
    "# Problem 1"
   ]
  },
  {
   "cell_type": "code",
   "execution_count": 27,
   "id": "03160f36-8a10-4b94-902f-a55d7cb29e96",
   "metadata": {},
   "outputs": [
    {
     "data": {
      "text/plain": [
       "array([[39, 29, 15, 43],\n",
       "       [ 8, 21, 39, 19],\n",
       "       [23, 11, 11, 24],\n",
       "       [36, 40, 24,  3],\n",
       "       [22,  2, 24, 44]])"
      ]
     },
     "execution_count": 27,
     "metadata": {},
     "output_type": "execute_result"
    }
   ],
   "source": [
    "array_2d = np.random.randint(1, 51, size=(5, 4))\n",
    "array_2d"
   ]
  },
  {
   "cell_type": "code",
   "execution_count": 28,
   "id": "c84af0cc-cb8d-4430-81bd-3689833a9f3e",
   "metadata": {},
   "outputs": [
    {
     "data": {
      "text/plain": [
       "array([43, 39, 11, 36])"
      ]
     },
     "execution_count": 28,
     "metadata": {},
     "output_type": "execute_result"
    }
   ],
   "source": [
    "anti_diagonal = np.array([array_2d[i, array_2d.shape[1] - 1 - i] for i in range(min(array_2d.shape))])\n",
    "anti_diagonal"
   ]
  },
  {
   "cell_type": "code",
   "execution_count": 29,
   "id": "029f1a0b-f54b-4e95-ba60-99a61da6f0fd",
   "metadata": {},
   "outputs": [
    {
     "data": {
      "text/plain": [
       "array([43, 39, 24, 40, 44])"
      ]
     },
     "execution_count": 29,
     "metadata": {},
     "output_type": "execute_result"
    }
   ],
   "source": [
    "max_each_row = array_2d.max(axis=1)\n",
    "max_each_row "
   ]
  },
  {
   "cell_type": "code",
   "execution_count": 30,
   "id": "c2b9d7df-e422-4f9e-893e-b61cb638a278",
   "metadata": {},
   "outputs": [
    {
     "data": {
      "text/plain": [
       "array([15,  8, 21, 19, 23, 11, 11,  3, 22,  2])"
      ]
     },
     "execution_count": 30,
     "metadata": {},
     "output_type": "execute_result"
    }
   ],
   "source": [
    "overall_mean = array_2d.mean()\n",
    "elements_leq_mean = array_2d[array_2d <= overall_mean]\n",
    "elements_leq_mean"
   ]
  },
  {
   "cell_type": "code",
   "execution_count": 31,
   "id": "2a194dde-8663-4e2b-b5aa-3b28fee610af",
   "metadata": {},
   "outputs": [
    {
     "data": {
      "text/plain": [
       "[39, 29, 15, 43, 19, 24, 3, 44, 24, 2, 22, 36, 23, 8]"
      ]
     },
     "execution_count": 31,
     "metadata": {},
     "output_type": "execute_result"
    }
   ],
   "source": [
    "def numpy_boundary_traversal(matrix):\n",
    "    rows, cols = matrix.shape\n",
    "    boundary = []\n",
    "    # Top row\n",
    "    boundary.extend(matrix[0, :].tolist())\n",
    "    # Right column (excluding top)\n",
    "    if rows > 1:\n",
    "        boundary.extend(matrix[1:rows, cols-1].tolist())\n",
    "    # Bottom row (excluding rightmost), in reverse if more than one row\n",
    "    if rows > 1:\n",
    "        boundary.extend(matrix[rows-1, :cols-1][::-1].tolist())\n",
    "    # Left column (excluding top and bottom), in reverse if more than two rows\n",
    "    if cols > 1 and rows > 2:\n",
    "        boundary.extend(matrix[rows-2:0:-1, 0].tolist())\n",
    "    return boundary\n",
    "\n",
    "boundary_elements = numpy_boundary_traversal(array_2d)\n",
    "boundary_elements"
   ]
  },
  {
   "cell_type": "markdown",
   "id": "c1550677-4522-44b9-a400-8447fc2828ce",
   "metadata": {},
   "source": [
    "# Problem 2"
   ]
  },
  {
   "cell_type": "code",
   "execution_count": 32,
   "id": "aa059b2d-0992-4972-975c-bcbce04d2abb",
   "metadata": {},
   "outputs": [
    {
     "data": {
      "text/plain": [
       "array([9.38552709e+00, 7.78765841e-03, 9.92211559e+00, 6.17481510e+00,\n",
       "       6.11653160e+00, 7.06630522e-02, 2.30624250e-01, 5.24774660e+00,\n",
       "       3.99860972e+00, 4.66656632e-01, 9.73755519e+00, 2.32771340e+00,\n",
       "       9.06064345e-01, 6.18386009e+00, 3.82461991e+00, 9.83230886e+00,\n",
       "       4.66762893e+00, 8.59940407e+00, 6.80307539e+00, 4.50499252e+00])"
      ]
     },
     "execution_count": 32,
     "metadata": {},
     "output_type": "execute_result"
    }
   ],
   "source": [
    "array_1d = np.random.uniform(0, 10, size=20)\n",
    "array_1d"
   ]
  },
  {
   "cell_type": "code",
   "execution_count": 33,
   "id": "d02fdba7-eb71-4637-9300-27b323bf1a7c",
   "metadata": {},
   "outputs": [
    {
     "data": {
      "text/plain": [
       "array([9.39, 0.01, 9.92, 6.17, 6.12, 0.07, 0.23, 5.25, 4.  , 0.47, 9.74,\n",
       "       2.33, 0.91, 6.18, 3.82, 9.83, 4.67, 8.6 , 6.8 , 4.5 ])"
      ]
     },
     "execution_count": 33,
     "metadata": {},
     "output_type": "execute_result"
    }
   ],
   "source": [
    "array_1d_rounded = np.round(array_1d, 2)\n",
    "array_1d_rounded"
   ]
  },
  {
   "cell_type": "code",
   "execution_count": 34,
   "id": "15ac1bb6-752a-4707-a17c-67ed8f3e0efe",
   "metadata": {},
   "outputs": [],
   "source": [
    "min_val = array_1d_rounded.min()\n",
    "max_val = array_1d_rounded.max()\n",
    "median_val = np.median(array_1d_rounded)"
   ]
  },
  {
   "cell_type": "code",
   "execution_count": 35,
   "id": "18116d78-85a9-4eeb-a05c-c4fe0c0a8aa5",
   "metadata": {},
   "outputs": [
    {
     "data": {
      "text/plain": [
       "array([ 9.39,  0.  ,  9.92,  6.17,  6.12,  0.  ,  0.05,  5.25, 16.  ,\n",
       "        0.22,  9.74,  5.43,  0.83,  6.18, 14.59,  9.83, 21.81,  8.6 ,\n",
       "        6.8 , 20.25])"
      ]
     },
     "execution_count": 35,
     "metadata": {},
     "output_type": "execute_result"
    }
   ],
   "source": [
    "array_1d_modified = np.where(array_1d_rounded < 5, np.round(array_1d_rounded**2, 2), array_1d_rounded)\n",
    "array_1d_modified"
   ]
  },
  {
   "cell_type": "code",
   "execution_count": 36,
   "id": "babfa7d3-26f7-43a6-955b-1ae911aa91ee",
   "metadata": {},
   "outputs": [],
   "source": [
    "def numpy_alternate_sort(array):\n",
    "    sorted_arr = np.sort(array)\n",
    "    result = []\n",
    "    i, j = 0, len(sorted_arr) - 1\n",
    "    while i <= j:\n",
    "        if i == j:\n",
    "            result.append(sorted_arr[i])\n",
    "        else:\n",
    "            result.append(sorted_arr[i])\n",
    "            result.append(sorted_arr[j])\n",
    "        i += 1\n",
    "        j -= 1\n",
    "    return np.array(result)\n",
    "\n",
    "alternate_sorted_array = numpy_alternate_sort(array_1d_rounded)"
   ]
  },
  {
   "cell_type": "markdown",
   "id": "dd2e17e8-1755-4547-9495-ce50d08a4bda",
   "metadata": {},
   "source": [
    "# Problem 3"
   ]
  },
  {
   "cell_type": "code",
   "execution_count": 37,
   "id": "6f590b13-b3d1-4a50-85d3-56a42af3015b",
   "metadata": {},
   "outputs": [
    {
     "data": {
      "text/html": [
       "<div>\n",
       "<style scoped>\n",
       "    .dataframe tbody tr th:only-of-type {\n",
       "        vertical-align: middle;\n",
       "    }\n",
       "\n",
       "    .dataframe tbody tr th {\n",
       "        vertical-align: top;\n",
       "    }\n",
       "\n",
       "    .dataframe thead th {\n",
       "        text-align: right;\n",
       "    }\n",
       "</style>\n",
       "<table border=\"1\" class=\"dataframe\">\n",
       "  <thead>\n",
       "    <tr style=\"text-align: right;\">\n",
       "      <th></th>\n",
       "      <th>Name</th>\n",
       "      <th>Subject</th>\n",
       "      <th>Score</th>\n",
       "    </tr>\n",
       "  </thead>\n",
       "  <tbody>\n",
       "    <tr>\n",
       "      <th>0</th>\n",
       "      <td>Student1</td>\n",
       "      <td>Math</td>\n",
       "      <td>67</td>\n",
       "    </tr>\n",
       "    <tr>\n",
       "      <th>1</th>\n",
       "      <td>Student2</td>\n",
       "      <td>Math</td>\n",
       "      <td>53</td>\n",
       "    </tr>\n",
       "    <tr>\n",
       "      <th>2</th>\n",
       "      <td>Student3</td>\n",
       "      <td>Chemistry</td>\n",
       "      <td>74</td>\n",
       "    </tr>\n",
       "    <tr>\n",
       "      <th>3</th>\n",
       "      <td>Student4</td>\n",
       "      <td>Physics</td>\n",
       "      <td>63</td>\n",
       "    </tr>\n",
       "    <tr>\n",
       "      <th>4</th>\n",
       "      <td>Student5</td>\n",
       "      <td>Physics</td>\n",
       "      <td>99</td>\n",
       "    </tr>\n",
       "    <tr>\n",
       "      <th>5</th>\n",
       "      <td>Student6</td>\n",
       "      <td>Physics</td>\n",
       "      <td>58</td>\n",
       "    </tr>\n",
       "    <tr>\n",
       "      <th>6</th>\n",
       "      <td>Student7</td>\n",
       "      <td>Math</td>\n",
       "      <td>75</td>\n",
       "    </tr>\n",
       "    <tr>\n",
       "      <th>7</th>\n",
       "      <td>Student8</td>\n",
       "      <td>Math</td>\n",
       "      <td>51</td>\n",
       "    </tr>\n",
       "    <tr>\n",
       "      <th>8</th>\n",
       "      <td>Student9</td>\n",
       "      <td>Biology</td>\n",
       "      <td>69</td>\n",
       "    </tr>\n",
       "    <tr>\n",
       "      <th>9</th>\n",
       "      <td>Student10</td>\n",
       "      <td>Math</td>\n",
       "      <td>77</td>\n",
       "    </tr>\n",
       "  </tbody>\n",
       "</table>\n",
       "</div>"
      ],
      "text/plain": [
       "        Name    Subject  Score\n",
       "0   Student1       Math     67\n",
       "1   Student2       Math     53\n",
       "2   Student3  Chemistry     74\n",
       "3   Student4    Physics     63\n",
       "4   Student5    Physics     99\n",
       "5   Student6    Physics     58\n",
       "6   Student7       Math     75\n",
       "7   Student8       Math     51\n",
       "8   Student9    Biology     69\n",
       "9  Student10       Math     77"
      ]
     },
     "execution_count": 37,
     "metadata": {},
     "output_type": "execute_result"
    }
   ],
   "source": [
    "names = [f\"Student{i+1}\" for i in range(10)]\n",
    "subjects = [\"Math\", \"Physics\", \"Chemistry\", \"Biology\"]\n",
    "df_students = pd.DataFrame({\n",
    "    \"Name\": names,\n",
    "    \"Subject\": [random.choice(subjects) for _ in range(10)],\n",
    "    \"Score\": np.random.randint(50, 101, size=10)\n",
    "})\n",
    "df_students"
   ]
  },
  {
   "cell_type": "code",
   "execution_count": 38,
   "id": "c7ee9bc0-0e11-46ea-96e1-e9f8cc80a015",
   "metadata": {},
   "outputs": [
    {
     "data": {
      "text/html": [
       "<div>\n",
       "<style scoped>\n",
       "    .dataframe tbody tr th:only-of-type {\n",
       "        vertical-align: middle;\n",
       "    }\n",
       "\n",
       "    .dataframe tbody tr th {\n",
       "        vertical-align: top;\n",
       "    }\n",
       "\n",
       "    .dataframe thead th {\n",
       "        text-align: right;\n",
       "    }\n",
       "</style>\n",
       "<table border=\"1\" class=\"dataframe\">\n",
       "  <thead>\n",
       "    <tr style=\"text-align: right;\">\n",
       "      <th></th>\n",
       "      <th>Name</th>\n",
       "      <th>Subject</th>\n",
       "      <th>Score</th>\n",
       "      <th>Grade</th>\n",
       "    </tr>\n",
       "  </thead>\n",
       "  <tbody>\n",
       "    <tr>\n",
       "      <th>0</th>\n",
       "      <td>Student1</td>\n",
       "      <td>Math</td>\n",
       "      <td>67</td>\n",
       "      <td>D</td>\n",
       "    </tr>\n",
       "    <tr>\n",
       "      <th>1</th>\n",
       "      <td>Student2</td>\n",
       "      <td>Math</td>\n",
       "      <td>53</td>\n",
       "      <td>F</td>\n",
       "    </tr>\n",
       "    <tr>\n",
       "      <th>2</th>\n",
       "      <td>Student3</td>\n",
       "      <td>Chemistry</td>\n",
       "      <td>74</td>\n",
       "      <td>C</td>\n",
       "    </tr>\n",
       "    <tr>\n",
       "      <th>3</th>\n",
       "      <td>Student4</td>\n",
       "      <td>Physics</td>\n",
       "      <td>63</td>\n",
       "      <td>D</td>\n",
       "    </tr>\n",
       "    <tr>\n",
       "      <th>4</th>\n",
       "      <td>Student5</td>\n",
       "      <td>Physics</td>\n",
       "      <td>99</td>\n",
       "      <td>A</td>\n",
       "    </tr>\n",
       "    <tr>\n",
       "      <th>5</th>\n",
       "      <td>Student6</td>\n",
       "      <td>Physics</td>\n",
       "      <td>58</td>\n",
       "      <td>F</td>\n",
       "    </tr>\n",
       "    <tr>\n",
       "      <th>6</th>\n",
       "      <td>Student7</td>\n",
       "      <td>Math</td>\n",
       "      <td>75</td>\n",
       "      <td>C</td>\n",
       "    </tr>\n",
       "    <tr>\n",
       "      <th>7</th>\n",
       "      <td>Student8</td>\n",
       "      <td>Math</td>\n",
       "      <td>51</td>\n",
       "      <td>F</td>\n",
       "    </tr>\n",
       "    <tr>\n",
       "      <th>8</th>\n",
       "      <td>Student9</td>\n",
       "      <td>Biology</td>\n",
       "      <td>69</td>\n",
       "      <td>D</td>\n",
       "    </tr>\n",
       "    <tr>\n",
       "      <th>9</th>\n",
       "      <td>Student10</td>\n",
       "      <td>Math</td>\n",
       "      <td>77</td>\n",
       "      <td>C</td>\n",
       "    </tr>\n",
       "  </tbody>\n",
       "</table>\n",
       "</div>"
      ],
      "text/plain": [
       "        Name    Subject  Score Grade\n",
       "0   Student1       Math     67     D\n",
       "1   Student2       Math     53     F\n",
       "2   Student3  Chemistry     74     C\n",
       "3   Student4    Physics     63     D\n",
       "4   Student5    Physics     99     A\n",
       "5   Student6    Physics     58     F\n",
       "6   Student7       Math     75     C\n",
       "7   Student8       Math     51     F\n",
       "8   Student9    Biology     69     D\n",
       "9  Student10       Math     77     C"
      ]
     },
     "execution_count": 38,
     "metadata": {},
     "output_type": "execute_result"
    }
   ],
   "source": [
    "def assign_grade(score):\n",
    "    if 90 <= score <= 100:\n",
    "        return \"A\"\n",
    "    elif 80 <= score <= 89:\n",
    "        return \"B\"\n",
    "    elif 70 <= score <= 79:\n",
    "        return \"C\"\n",
    "    elif 60 <= score <= 69:\n",
    "        return \"D\"\n",
    "    else:\n",
    "        return \"F\"\n",
    "\n",
    "df_students[\"Grade\"] = df_students[\"Score\"].apply(assign_grade)\n",
    "df_students"
   ]
  },
  {
   "cell_type": "code",
   "execution_count": 39,
   "id": "93ef29cc-e9c4-4138-bc00-8e741e1ec332",
   "metadata": {},
   "outputs": [
    {
     "data": {
      "text/html": [
       "<div>\n",
       "<style scoped>\n",
       "    .dataframe tbody tr th:only-of-type {\n",
       "        vertical-align: middle;\n",
       "    }\n",
       "\n",
       "    .dataframe tbody tr th {\n",
       "        vertical-align: top;\n",
       "    }\n",
       "\n",
       "    .dataframe thead th {\n",
       "        text-align: right;\n",
       "    }\n",
       "</style>\n",
       "<table border=\"1\" class=\"dataframe\">\n",
       "  <thead>\n",
       "    <tr style=\"text-align: right;\">\n",
       "      <th></th>\n",
       "      <th>Name</th>\n",
       "      <th>Subject</th>\n",
       "      <th>Score</th>\n",
       "      <th>Grade</th>\n",
       "    </tr>\n",
       "  </thead>\n",
       "  <tbody>\n",
       "    <tr>\n",
       "      <th>4</th>\n",
       "      <td>Student5</td>\n",
       "      <td>Physics</td>\n",
       "      <td>99</td>\n",
       "      <td>A</td>\n",
       "    </tr>\n",
       "    <tr>\n",
       "      <th>9</th>\n",
       "      <td>Student10</td>\n",
       "      <td>Math</td>\n",
       "      <td>77</td>\n",
       "      <td>C</td>\n",
       "    </tr>\n",
       "    <tr>\n",
       "      <th>6</th>\n",
       "      <td>Student7</td>\n",
       "      <td>Math</td>\n",
       "      <td>75</td>\n",
       "      <td>C</td>\n",
       "    </tr>\n",
       "    <tr>\n",
       "      <th>2</th>\n",
       "      <td>Student3</td>\n",
       "      <td>Chemistry</td>\n",
       "      <td>74</td>\n",
       "      <td>C</td>\n",
       "    </tr>\n",
       "    <tr>\n",
       "      <th>8</th>\n",
       "      <td>Student9</td>\n",
       "      <td>Biology</td>\n",
       "      <td>69</td>\n",
       "      <td>D</td>\n",
       "    </tr>\n",
       "    <tr>\n",
       "      <th>0</th>\n",
       "      <td>Student1</td>\n",
       "      <td>Math</td>\n",
       "      <td>67</td>\n",
       "      <td>D</td>\n",
       "    </tr>\n",
       "    <tr>\n",
       "      <th>3</th>\n",
       "      <td>Student4</td>\n",
       "      <td>Physics</td>\n",
       "      <td>63</td>\n",
       "      <td>D</td>\n",
       "    </tr>\n",
       "    <tr>\n",
       "      <th>5</th>\n",
       "      <td>Student6</td>\n",
       "      <td>Physics</td>\n",
       "      <td>58</td>\n",
       "      <td>F</td>\n",
       "    </tr>\n",
       "    <tr>\n",
       "      <th>1</th>\n",
       "      <td>Student2</td>\n",
       "      <td>Math</td>\n",
       "      <td>53</td>\n",
       "      <td>F</td>\n",
       "    </tr>\n",
       "    <tr>\n",
       "      <th>7</th>\n",
       "      <td>Student8</td>\n",
       "      <td>Math</td>\n",
       "      <td>51</td>\n",
       "      <td>F</td>\n",
       "    </tr>\n",
       "  </tbody>\n",
       "</table>\n",
       "</div>"
      ],
      "text/plain": [
       "        Name    Subject  Score Grade\n",
       "4   Student5    Physics     99     A\n",
       "9  Student10       Math     77     C\n",
       "6   Student7       Math     75     C\n",
       "2   Student3  Chemistry     74     C\n",
       "8   Student9    Biology     69     D\n",
       "0   Student1       Math     67     D\n",
       "3   Student4    Physics     63     D\n",
       "5   Student6    Physics     58     F\n",
       "1   Student2       Math     53     F\n",
       "7   Student8       Math     51     F"
      ]
     },
     "execution_count": 39,
     "metadata": {},
     "output_type": "execute_result"
    }
   ],
   "source": [
    "df_sorted = df_students.sort_values(by=\"Score\", ascending=False)\n",
    "df_sorted"
   ]
  },
  {
   "cell_type": "code",
   "execution_count": 40,
   "id": "60fbe458-53b1-48aa-a682-2b752fa9c494",
   "metadata": {},
   "outputs": [
    {
     "data": {
      "text/html": [
       "<div>\n",
       "<style scoped>\n",
       "    .dataframe tbody tr th:only-of-type {\n",
       "        vertical-align: middle;\n",
       "    }\n",
       "\n",
       "    .dataframe tbody tr th {\n",
       "        vertical-align: top;\n",
       "    }\n",
       "\n",
       "    .dataframe thead th {\n",
       "        text-align: right;\n",
       "    }\n",
       "</style>\n",
       "<table border=\"1\" class=\"dataframe\">\n",
       "  <thead>\n",
       "    <tr style=\"text-align: right;\">\n",
       "      <th></th>\n",
       "      <th>Subject</th>\n",
       "      <th>Score</th>\n",
       "    </tr>\n",
       "  </thead>\n",
       "  <tbody>\n",
       "    <tr>\n",
       "      <th>0</th>\n",
       "      <td>Biology</td>\n",
       "      <td>69.000000</td>\n",
       "    </tr>\n",
       "    <tr>\n",
       "      <th>1</th>\n",
       "      <td>Chemistry</td>\n",
       "      <td>74.000000</td>\n",
       "    </tr>\n",
       "    <tr>\n",
       "      <th>2</th>\n",
       "      <td>Math</td>\n",
       "      <td>64.600000</td>\n",
       "    </tr>\n",
       "    <tr>\n",
       "      <th>3</th>\n",
       "      <td>Physics</td>\n",
       "      <td>73.333333</td>\n",
       "    </tr>\n",
       "  </tbody>\n",
       "</table>\n",
       "</div>"
      ],
      "text/plain": [
       "     Subject      Score\n",
       "0    Biology  69.000000\n",
       "1  Chemistry  74.000000\n",
       "2       Math  64.600000\n",
       "3    Physics  73.333333"
      ]
     },
     "execution_count": 40,
     "metadata": {},
     "output_type": "execute_result"
    }
   ],
   "source": [
    "avg_score_per_subject = df_students.groupby(\"Subject\")[\"Score\"].mean().reset_index()\n",
    "avg_score_per_subject "
   ]
  },
  {
   "cell_type": "code",
   "execution_count": 41,
   "id": "cf084db2-3dc6-4028-9fe1-1587682c9886",
   "metadata": {},
   "outputs": [
    {
     "data": {
      "text/html": [
       "<div>\n",
       "<style scoped>\n",
       "    .dataframe tbody tr th:only-of-type {\n",
       "        vertical-align: middle;\n",
       "    }\n",
       "\n",
       "    .dataframe tbody tr th {\n",
       "        vertical-align: top;\n",
       "    }\n",
       "\n",
       "    .dataframe thead th {\n",
       "        text-align: right;\n",
       "    }\n",
       "</style>\n",
       "<table border=\"1\" class=\"dataframe\">\n",
       "  <thead>\n",
       "    <tr style=\"text-align: right;\">\n",
       "      <th></th>\n",
       "      <th>Name</th>\n",
       "      <th>Subject</th>\n",
       "      <th>Score</th>\n",
       "      <th>Grade</th>\n",
       "    </tr>\n",
       "  </thead>\n",
       "  <tbody>\n",
       "    <tr>\n",
       "      <th>4</th>\n",
       "      <td>Student5</td>\n",
       "      <td>Physics</td>\n",
       "      <td>99</td>\n",
       "      <td>A</td>\n",
       "    </tr>\n",
       "  </tbody>\n",
       "</table>\n",
       "</div>"
      ],
      "text/plain": [
       "       Name  Subject  Score Grade\n",
       "4  Student5  Physics     99     A"
      ]
     },
     "execution_count": 41,
     "metadata": {},
     "output_type": "execute_result"
    }
   ],
   "source": [
    "def pandas_filter_pass(dataframe):\n",
    "    return dataframe[dataframe[\"Grade\"].isin([\"A\", \"B\"])]\n",
    "\n",
    "df_pass = pandas_filter_pass(df_students)\n",
    "df_pass"
   ]
  },
  {
   "cell_type": "markdown",
   "id": "054be857-e5d8-47ed-ae7e-1f825692dba9",
   "metadata": {},
   "source": [
    "# Problem 4: Synthetic movie reviews"
   ]
  },
  {
   "cell_type": "code",
   "execution_count": 42,
   "id": "55ee5b38-be25-42d5-b8a0-5f469a591b7b",
   "metadata": {},
   "outputs": [
    {
     "data": {
      "text/html": [
       "<div>\n",
       "<style scoped>\n",
       "    .dataframe tbody tr th:only-of-type {\n",
       "        vertical-align: middle;\n",
       "    }\n",
       "\n",
       "    .dataframe tbody tr th {\n",
       "        vertical-align: top;\n",
       "    }\n",
       "\n",
       "    .dataframe thead th {\n",
       "        text-align: right;\n",
       "    }\n",
       "</style>\n",
       "<table border=\"1\" class=\"dataframe\">\n",
       "  <thead>\n",
       "    <tr style=\"text-align: right;\">\n",
       "      <th></th>\n",
       "      <th>Review</th>\n",
       "      <th>Sentiment</th>\n",
       "    </tr>\n",
       "  </thead>\n",
       "  <tbody>\n",
       "    <tr>\n",
       "      <th>0</th>\n",
       "      <td>I loved this movie, it was fantastic and moving.</td>\n",
       "      <td>positive</td>\n",
       "    </tr>\n",
       "    <tr>\n",
       "      <th>1</th>\n",
       "      <td>I loved this movie, it was fantastic and moving.</td>\n",
       "      <td>positive</td>\n",
       "    </tr>\n",
       "    <tr>\n",
       "      <th>2</th>\n",
       "      <td>A wonderful film with great performances and s...</td>\n",
       "      <td>positive</td>\n",
       "    </tr>\n",
       "    <tr>\n",
       "      <th>3</th>\n",
       "      <td>A wonderful film with great performances and s...</td>\n",
       "      <td>positive</td>\n",
       "    </tr>\n",
       "    <tr>\n",
       "      <th>4</th>\n",
       "      <td>Brilliant direction and outstanding acting.</td>\n",
       "      <td>positive</td>\n",
       "    </tr>\n",
       "    <tr>\n",
       "      <th>...</th>\n",
       "      <td>...</td>\n",
       "      <td>...</td>\n",
       "    </tr>\n",
       "    <tr>\n",
       "      <th>95</th>\n",
       "      <td>This film was horrible; I regretted watching it.</td>\n",
       "      <td>negative</td>\n",
       "    </tr>\n",
       "    <tr>\n",
       "      <th>96</th>\n",
       "      <td>An awful movie, disappointing and poorly made.</td>\n",
       "      <td>negative</td>\n",
       "    </tr>\n",
       "    <tr>\n",
       "      <th>97</th>\n",
       "      <td>A terrible film with poor acting and storyline.</td>\n",
       "      <td>negative</td>\n",
       "    </tr>\n",
       "    <tr>\n",
       "      <th>98</th>\n",
       "      <td>A terrible film with poor acting and storyline.</td>\n",
       "      <td>negative</td>\n",
       "    </tr>\n",
       "    <tr>\n",
       "      <th>99</th>\n",
       "      <td>Bad direction and terrible performances.</td>\n",
       "      <td>negative</td>\n",
       "    </tr>\n",
       "  </tbody>\n",
       "</table>\n",
       "<p>100 rows × 2 columns</p>\n",
       "</div>"
      ],
      "text/plain": [
       "                                               Review Sentiment\n",
       "0    I loved this movie, it was fantastic and moving.  positive\n",
       "1    I loved this movie, it was fantastic and moving.  positive\n",
       "2   A wonderful film with great performances and s...  positive\n",
       "3   A wonderful film with great performances and s...  positive\n",
       "4         Brilliant direction and outstanding acting.  positive\n",
       "..                                                ...       ...\n",
       "95   This film was horrible; I regretted watching it.  negative\n",
       "96     An awful movie, disappointing and poorly made.  negative\n",
       "97    A terrible film with poor acting and storyline.  negative\n",
       "98    A terrible film with poor acting and storyline.  negative\n",
       "99           Bad direction and terrible performances.  negative\n",
       "\n",
       "[100 rows x 2 columns]"
      ]
     },
     "execution_count": 42,
     "metadata": {},
     "output_type": "execute_result"
    }
   ],
   "source": [
    "positive_templates = [\n",
    "    \"I loved this movie, it was fantastic and moving.\",\n",
    "    \"A wonderful film with great performances and story.\",\n",
    "    \"An excellent movie, truly inspiring and well-made.\",\n",
    "    \"This film was amazing; I enjoyed every moment.\",\n",
    "    \"Brilliant direction and outstanding acting.\"\n",
    "]\n",
    "negative_templates = [\n",
    "    \"I hated this movie, it was boring and too long.\",\n",
    "    \"A terrible film with poor acting and storyline.\",\n",
    "    \"An awful movie, disappointing and poorly made.\",\n",
    "    \"This film was horrible; I regretted watching it.\",\n",
    "    \"Bad direction and terrible performances.\"\n",
    "]\n",
    "\n",
    "reviews = []\n",
    "sentiments = []\n",
    "for _ in range(50):\n",
    "    reviews.append(random.choice(positive_templates))\n",
    "    sentiments.append(\"positive\")\n",
    "for _ in range(50):\n",
    "    reviews.append(random.choice(negative_templates))\n",
    "    sentiments.append(\"negative\")\n",
    "\n",
    "df_reviews = pd.DataFrame({\"Review\": reviews, \"Sentiment\": sentiments})\n",
    "df_reviews"
   ]
  },
  {
   "cell_type": "code",
   "execution_count": 43,
   "id": "07081f96-8b56-4619-9d02-ca2136c0e50a",
   "metadata": {},
   "outputs": [
    {
     "data": {
      "text/plain": [
       "1.0"
      ]
     },
     "execution_count": 43,
     "metadata": {},
     "output_type": "execute_result"
    }
   ],
   "source": [
    "df_reviews = pd.DataFrame({\"Review\": reviews, \"Sentiment\": sentiments})\n",
    "vectorizer = CountVectorizer(max_features=500, stop_words='english')\n",
    "X = vectorizer.fit_transform(df_reviews[\"Review\"])\n",
    "y = df_reviews[\"Sentiment\"]\n",
    "X_train, X_test, y_train, y_test = train_test_split(X, y, test_size=0.2, random_state=42)\n",
    "nb_model = MultinomialNB()\n",
    "nb_model.fit(X_train, y_train)\n",
    "y_pred = nb_model.predict(X_test)\n",
    "accuracy_nb = accuracy_score(y_test, y_pred)\n",
    "accuracy_nb "
   ]
  },
  {
   "cell_type": "code",
   "execution_count": 44,
   "id": "abec6218-eeea-4b76-b143-8bcf263367a0",
   "metadata": {},
   "outputs": [],
   "source": [
    "def predict_review_sentiment(model, vectorizer, review):\n",
    "    vec = vectorizer.transform([review])\n",
    "    return model.predict(vec)[0]\n",
    "    "
   ]
  },
  {
   "cell_type": "markdown",
   "id": "77d451a2-b2eb-4569-8773-ae4fdfae458e",
   "metadata": {},
   "source": [
    "# Problem 5: Synthetic product feedback"
   ]
  },
  {
   "cell_type": "code",
   "execution_count": 45,
   "id": "1fdeb80d-ab33-4b0c-ac96-22fb0ca1f620",
   "metadata": {},
   "outputs": [
    {
     "data": {
      "text/html": [
       "<div>\n",
       "<style scoped>\n",
       "    .dataframe tbody tr th:only-of-type {\n",
       "        vertical-align: middle;\n",
       "    }\n",
       "\n",
       "    .dataframe tbody tr th {\n",
       "        vertical-align: top;\n",
       "    }\n",
       "\n",
       "    .dataframe thead th {\n",
       "        text-align: right;\n",
       "    }\n",
       "</style>\n",
       "<table border=\"1\" class=\"dataframe\">\n",
       "  <thead>\n",
       "    <tr style=\"text-align: right;\">\n",
       "      <th></th>\n",
       "      <th>Feedback</th>\n",
       "      <th>Label</th>\n",
       "    </tr>\n",
       "  </thead>\n",
       "  <tbody>\n",
       "    <tr>\n",
       "      <th>0</th>\n",
       "      <td>Fantastic item, durable and well-designed.</td>\n",
       "      <td>good</td>\n",
       "    </tr>\n",
       "    <tr>\n",
       "      <th>1</th>\n",
       "      <td>The product quality is excellent and I am very...</td>\n",
       "      <td>good</td>\n",
       "    </tr>\n",
       "    <tr>\n",
       "      <th>2</th>\n",
       "      <td>The product quality is excellent and I am very...</td>\n",
       "      <td>good</td>\n",
       "    </tr>\n",
       "    <tr>\n",
       "      <th>3</th>\n",
       "      <td>The product quality is excellent and I am very...</td>\n",
       "      <td>good</td>\n",
       "    </tr>\n",
       "    <tr>\n",
       "      <th>4</th>\n",
       "      <td>Great product, works as expected and exceeds e...</td>\n",
       "      <td>good</td>\n",
       "    </tr>\n",
       "    <tr>\n",
       "      <th>...</th>\n",
       "      <td>...</td>\n",
       "      <td>...</td>\n",
       "    </tr>\n",
       "    <tr>\n",
       "      <th>95</th>\n",
       "      <td>Bad build and unreliable performance.</td>\n",
       "      <td>bad</td>\n",
       "    </tr>\n",
       "    <tr>\n",
       "      <th>96</th>\n",
       "      <td>Very disappointed, the item is of poor quality.</td>\n",
       "      <td>bad</td>\n",
       "    </tr>\n",
       "    <tr>\n",
       "      <th>97</th>\n",
       "      <td>I hate this product, waste of money.</td>\n",
       "      <td>bad</td>\n",
       "    </tr>\n",
       "    <tr>\n",
       "      <th>98</th>\n",
       "      <td>Awful experience, product didn't meet any expe...</td>\n",
       "      <td>bad</td>\n",
       "    </tr>\n",
       "    <tr>\n",
       "      <th>99</th>\n",
       "      <td>Very disappointed, the item is of poor quality.</td>\n",
       "      <td>bad</td>\n",
       "    </tr>\n",
       "  </tbody>\n",
       "</table>\n",
       "<p>100 rows × 2 columns</p>\n",
       "</div>"
      ],
      "text/plain": [
       "                                             Feedback Label\n",
       "0          Fantastic item, durable and well-designed.  good\n",
       "1   The product quality is excellent and I am very...  good\n",
       "2   The product quality is excellent and I am very...  good\n",
       "3   The product quality is excellent and I am very...  good\n",
       "4   Great product, works as expected and exceeds e...  good\n",
       "..                                                ...   ...\n",
       "95              Bad build and unreliable performance.   bad\n",
       "96    Very disappointed, the item is of poor quality.   bad\n",
       "97               I hate this product, waste of money.   bad\n",
       "98  Awful experience, product didn't meet any expe...   bad\n",
       "99    Very disappointed, the item is of poor quality.   bad\n",
       "\n",
       "[100 rows x 2 columns]"
      ]
     },
     "execution_count": 45,
     "metadata": {},
     "output_type": "execute_result"
    }
   ],
   "source": [
    "positive_feedback_templates = [\n",
    "    \"The product quality is excellent and I am very satisfied.\",\n",
    "    \"Great product, works as expected and exceeds expectations.\",\n",
    "    \"I love this product, highly recommend it to others.\",\n",
    "    \"Fantastic item, durable and well-designed.\",\n",
    "    \"Superb performance and value for money.\"\n",
    "]\n",
    "negative_feedback_templates = [\n",
    "    \"The product is terrible and broke after first use.\",\n",
    "    \"Very disappointed, the item is of poor quality.\",\n",
    "    \"I hate this product, waste of money.\",\n",
    "    \"Awful experience, product didn't meet any expectations.\",\n",
    "    \"Bad build and unreliable performance.\"\n",
    "]\n",
    "\n",
    "feedbacks = []\n",
    "labels = []\n",
    "for _ in range(50):\n",
    "    feedbacks.append(random.choice(positive_feedback_templates))\n",
    "    labels.append(\"good\")\n",
    "for _ in range(50):\n",
    "    feedbacks.append(random.choice(negative_feedback_templates))\n",
    "    labels.append(\"bad\")\n",
    "\n",
    "df_feedback = pd.DataFrame({\"Feedback\": feedbacks, \"Label\": labels})\n",
    "df_feedback"
   ]
  },
  {
   "cell_type": "code",
   "execution_count": 46,
   "id": "8de21ab4-99fb-4105-9cd6-3597d104167a",
   "metadata": {},
   "outputs": [
    {
     "name": "stdout",
     "output_type": "stream",
     "text": [
      "1.0 1.0 1.0 None\n"
     ]
    }
   ],
   "source": [
    "tfidf_vectorizer = TfidfVectorizer(max_features=300, stop_words='english', lowercase=True)\n",
    "X_fb = tfidf_vectorizer.fit_transform(df_feedback[\"Feedback\"])\n",
    "y_fb = df_feedback[\"Label\"]\n",
    "X_train_fb, X_test_fb, y_train_fb, y_test_fb = train_test_split(X_fb, y_fb, test_size=0.25, random_state=42)\n",
    "lr_model = LogisticRegression(max_iter=1000)\n",
    "lr_model.fit(X_train_fb, y_train_fb)\n",
    "y_pred_fb = lr_model.predict(X_test_fb)\n",
    "precision, recall, f1, _ = precision_recall_fscore_support(y_test_fb, y_pred_fb, average='binary', pos_label='good')\n",
    "print(precision, recall, f1, _)"
   ]
  },
  {
   "cell_type": "code",
   "execution_count": 47,
   "id": "61dc6b0b-ed77-4466-b3f3-71a7eb5d5588",
   "metadata": {},
   "outputs": [],
   "source": [
    "def text_preprocess_vectorize(texts, vectorizer):\n",
    "    return vectorizer.transform(texts)"
   ]
  },
  {
   "cell_type": "markdown",
   "id": "a43cacc2-ef1e-4504-ab7b-cfaf9013a775",
   "metadata": {},
   "source": [
    "# Thank You"
   ]
  }
 ],
 "metadata": {
  "kernelspec": {
   "display_name": "Python 3 (ipykernel)",
   "language": "python",
   "name": "python3"
  },
  "language_info": {
   "codemirror_mode": {
    "name": "ipython",
    "version": 3
   },
   "file_extension": ".py",
   "mimetype": "text/x-python",
   "name": "python",
   "nbconvert_exporter": "python",
   "pygments_lexer": "ipython3",
   "version": "3.11.7"
  }
 },
 "nbformat": 4,
 "nbformat_minor": 5
}
